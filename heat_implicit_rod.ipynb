{
 "cells": [
  {
   "cell_type": "code",
   "execution_count": 111,
   "metadata": {},
   "outputs": [],
   "source": [
    "# implicit_PDE_rod\n",
    "#\n",
    "# based on https://github.com/numerical-mooc/numerical-mooc/blob/master/lessons/04_spreadout/04_02_Heat_Equation_1D_Implicit.ipynb\n",
    "\n",
    "import numpy as np\n",
    "import matplotlib.pyplot as plt\n",
    "from scipy import linalg\n",
    "\n",
    "# Set parameters.\n",
    "L = 1.0  # length of the rod\n",
    "nx = 101  # number of locations on the rod\n",
    "dx = L / (nx - 1)  # distance between two consecutive locations\n",
    "alpha = 1  #  thermal diffusivity of the rod\n",
    "\n",
    "# Define the locations along the rod.\n",
    "x = np.linspace(0.0, L, num=nx)\n",
    "\n",
    "def lhs_operator(N, sigma):\n",
    "    \"\"\"\n",
    "    Computes and returns the implicit operator\n",
    "    of the system for the 1D diffusion equation.\n",
    "    We use backward Euler method, Dirichlet condition\n",
    "    on the left side of the domain and zero-gradient\n",
    "    Neumann condition on the right side.\n",
    "    \n",
    "    Parameters\n",
    "    ----------\n",
    "    N : integer\n",
    "        Number of interior points.\n",
    "    sigma : float\n",
    "        Value of alpha * dt / dx**2.\n",
    "    \n",
    "    Returns\n",
    "    -------\n",
    "    A : numpy.ndarray\n",
    "        The implicit operator as a 2D array of floats\n",
    "        of size N by N.\n",
    "    \"\"\"\n",
    "    # Setup the diagonal of the operator.\n",
    "    D = np.diag((2.0 + 1.0 / sigma) * np.ones(N))\n",
    "    # Setup the Neumann condition for the last element.\n",
    "    #D[-1, -1] = 1.0 + 1.0 / sigma\n",
    "    # Setup the upper diagonal of the operator.\n",
    "    U = np.diag(-1.0 * np.ones(N - 1), k=1)\n",
    "    # Setup the lower diagonal of the operator.\n",
    "    L = np.diag(-1.0 * np.ones(N - 1), k=-1)\n",
    "    # Assemble the operator.\n",
    "    A = D + U + L\n",
    "    A[0,0]=1\n",
    "    A[0,1]=0\n",
    "    A[-1,-1]=1\n",
    "    A[-1,-2]=0\n",
    "    return A\n",
    "\n",
    "\n",
    "def rhs_vector(T, sigma, left, right):\n",
    "    \"\"\"\n",
    "    Computes and returns the right-hand side of the system\n",
    "    for the 1D diffusion equation, using a Dirichlet condition\n",
    "    \n",
    "    Parameters\n",
    "    ----------\n",
    "    T : numpy.ndarray\n",
    "        The temperature distribution as a 1D array of floats.\n",
    "    sigma : float\n",
    "        Value of alpha * dt / dx**2.\n",
    "    \n",
    "    Returns\n",
    "    -------\n",
    "    b : numpy.ndarray\n",
    "        The right-hand side of the system as a 1D array of floats.\n",
    "    \"\"\"\n",
    "    b = T / sigma\n",
    "    # Set Dirichlet condition.\n",
    "    b[0] = left\n",
    "    b[-1] = right\n",
    "    return b\n",
    "\n",
    "def btcs_implicit(T0, nt, dt, dx, alpha, left, right):\n",
    "    \"\"\"\n",
    "    Computes and returns the temperature along the rod\n",
    "    after a given number of time steps.\n",
    "    \n",
    "    The function uses Euler implicit in time,\n",
    "    central differencing in space, a Dirichlet condition\n",
    "    on the left side, and a Neumann condition on the\n",
    "    right side.\n",
    "    \n",
    "    Parameters\n",
    "    ----------\n",
    "    T0 : numpy.ndarray\n",
    "        The initial temperature distribution as a 1D array of floats.\n",
    "    nt : integer\n",
    "        Number of time steps to compute.\n",
    "    dt : float\n",
    "        Time-step size.\n",
    "    dx : float\n",
    "        Distance between two consecutive locations.\n",
    "    alpha : float\n",
    "        Thermal diffusivity of the rod.\n",
    "    \n",
    "    Returns\n",
    "    -------\n",
    "    T : numpy.ndarray\n",
    "        The temperature distribution as a 1D array of floats.\n",
    "    \"\"\"\n",
    "    sigma = alpha * dt / dx**2\n",
    "    # Create the implicit operator of the system.\n",
    "    A = lhs_operator(len(T0), sigma)\n",
    "    # Integrate in time.\n",
    "    T = T0.copy()\n",
    "    output = [[0,T.copy()]]\n",
    "    for n in range(nt):\n",
    "        # Generate the right-hand side of the system.\n",
    "        b = rhs_vector(T, sigma, left, right)\n",
    "        # Solve the system with scipy.linalg.solve.\n",
    "        T = linalg.solve(A, b)\n",
    "        output += [[n+1,T.copy()]]\n",
    "    return output\n"
   ]
  },
  {
   "cell_type": "code",
   "execution_count": 98,
   "metadata": {},
   "outputs": [
    {
     "data": {
      "text/plain": [
       "array([[ 1. ,  0. ,  0. ,  0. ,  0. ],\n",
       "       [-1. ,  2.5, -1. ,  0. ,  0. ],\n",
       "       [ 0. , -1. ,  2.5, -1. ,  0. ],\n",
       "       [ 0. ,  0. , -1. ,  2.5, -1. ],\n",
       "       [ 0. ,  0. ,  0. ,  0. ,  1. ]])"
      ]
     },
     "execution_count": 98,
     "metadata": {},
     "output_type": "execute_result"
    }
   ],
   "source": [
    "lhs_operator(5, 2)"
   ]
  },
  {
   "cell_type": "code",
   "execution_count": 127,
   "metadata": {},
   "outputs": [
    {
     "name": "stdout",
     "output_type": "stream",
     "text": [
      "[ 80.  80.  80.  80.  80.  80. 100. 100. 100. 100. 100. 100. 100. 100.\n",
      " 100. 100. 100. 100. 100. 100. 100. 100. 100. 100. 100. 100. 100. 100.\n",
      " 100. 100. 100. 100. 100. 100. 100.  50.  50.  50.  50.  50.  50.  50.\n",
      "  50.  50.  50.  50.  50.  50.  50.  50.  50.  50.  50.  50.  50.  50.\n",
      "  50.  50.  50.  50.  50.  50.  50.  50.  50.   0.   0.   0.   0.   0.\n",
      "   0.   0.   0.   0.   0.   0.   0.   0.   0.   0.   0.   0.   0.   0.\n",
      "   0.   0.   0.   0.   0.   0.   0.   0.   0.   0.   0.  20.  20.  20.\n",
      "  20.  20.  20.]\n"
     ]
    }
   ],
   "source": [
    "# Set the time-step \n",
    "sigma = 5\n",
    "dt = sigma * dx**2 / alpha  # time-step size\n",
    "nt = 1001  # number of time steps to compute\n",
    "\n",
    "# Set the initial temperature along the rod.\n",
    "T0 = np.zeros(nx)\n",
    "T0[5:36] = 100.0\n",
    "T0[35:66] = 50\n",
    "T0[:6] = 80\n",
    "T0[65:96] = 0\n",
    "T0[95:] = 20\n",
    "#T0[int(nx/2):] = 0\n",
    "print(T0)\n",
    "\n",
    "# Compute the temperature along the rod.\n",
    "T = btcs_implicit(T0, nt, dt, dx, alpha, 80, 20)"
   ]
  },
  {
   "cell_type": "code",
   "execution_count": 128,
   "metadata": {},
   "outputs": [
    {
     "data": {
      "image/png": "[encoded data removed]",
      "text/plain": [
       "<Figure size 432x288 with 1 Axes>"
      ]
     },
     "metadata": {
      "needs_background": "light"
     },
     "output_type": "display_data"
    }
   ],
   "source": [
    "# Plot the temperature along the rod.\n",
    "plt.figure(figsize=(6.0, 4.0))\n",
    "plt.xlabel('Distance [m]')\n",
    "plt.ylabel('Temperature [C]')\n",
    "plt.grid()\n",
    "for i,t in [*T[0:300:10],T[-100]]:\n",
    "  plt.plot(x, t, linestyle='-', linewidth=2)\n",
    "plt.xlim(0.0, L)\n",
    "plt.ylim(0.0, 100.0);"
   ]
  },
  {
   "cell_type": "code",
   "execution_count": 129,
   "metadata": {},
   "outputs": [],
   "source": [
    "OUT = np.matrix([i[1] for i in T])\n",
    "np.savetxt(\"solution_heat_1D.txt\", OUT)"
   ]
  },
  {
   "cell_type": "code",
   "execution_count": 124,
   "metadata": {},
   "outputs": [],
   "source": [
    "import numpy as np\n",
    "T = np.loadtxt('solution_heat_1D.txt')\n"
   ]
  },
  {
   "cell_type": "code",
   "execution_count": 110,
   "metadata": {},
   "outputs": [
    {
     "data": {
      "text/plain": [
       "array([[100.        , 100.        ,   0.        ,   0.        ,\n",
       "         50.        ,  50.        ],\n",
       "       [ 80.        ,  88.86371263,  22.20844447,  12.95163292,\n",
       "         44.27626007,  20.        ],\n",
       "       [ 80.        ,  78.46745535,  30.88585906,  18.45957157,\n",
       "         37.09170488,  20.        ],\n",
       "       [ 80.        ,  72.17491823,  35.71480012,  22.49928788,\n",
       "         32.29164844,  20.        ],\n",
       "       [ 80.        ,  64.40679081,  42.51608383,  29.44236947,\n",
       "         26.49180228,  20.        ],\n",
       "       [ 80.        ,  62.90604839,  46.97632809,  34.62011945,\n",
       "         26.32783607,  20.        ],\n",
       "       [ 80.        ,  64.92507841,  50.99429929,  38.9600737 ,\n",
       "         28.86970002,  20.        ],\n",
       "       [ 80.        ,  67.13701407,  54.60348726,  42.6032745 ,\n",
       "         31.13666981,  20.        ]])"
      ]
     },
     "execution_count": 110,
     "metadata": {},
     "output_type": "execute_result"
    }
   ],
   "source": [
    "trange = [0,10,20,30,60,120,240,500]\n",
    "xrange = [0,20,40,60,80,100]\n",
    "T[np.ix_(trange,xrange)]"
   ]
  },
  {
   "cell_type": "code",
   "execution_count": 94,
   "metadata": {},
   "outputs": [
    {
     "data": {
      "text/plain": [
       "100.0"
      ]
     },
     "execution_count": 94,
     "metadata": {},
     "output_type": "execute_result"
    }
   ],
   "source": [
    "T[0,3]"
   ]
  },
  {
   "cell_type": "code",
   "execution_count": 95,
   "metadata": {},
   "outputs": [
    {
     "data": {
      "text/plain": [
       "array([80.        , 79.39997133, 78.79994269, 78.19991411, 77.59988561,\n",
       "       76.99985723, 76.39982899, 75.79980091, 75.19977303, 74.59974538,\n",
       "       73.99971798, 73.39969085, 72.79966403, 72.19963754, 71.59961141,\n",
       "       70.99958567, 70.39956033, 69.79953542, 69.19951098, 68.59948701,\n",
       "       67.99946356, 67.39944063, 66.79941825, 66.19939645, 65.59937525,\n",
       "       64.99935466, 64.39933471, 63.79931541, 63.19929679, 62.59927886,\n",
       "       61.99926165, 61.39924516, 60.79922942, 60.19921444, 59.59920024,\n",
       "       58.99918682, 58.39917421, 57.79916241, 57.19915144, 56.5991413 ,\n",
       "       55.99913202, 55.39912359, 54.79911602, 54.19910933, 53.59910351,\n",
       "       52.99909859, 52.39909455, 51.7990914 , 51.19908915, 50.5990878 ,\n",
       "       49.99908735, 49.3990878 , 48.79908915, 48.1990914 , 47.59909455,\n",
       "       46.99909859, 46.39910351, 45.79910933, 45.19911602, 44.59912359,\n",
       "       43.99913202, 43.3991413 , 42.79915144, 42.19916241, 41.59917421,\n",
       "       40.99918682, 40.39920024, 39.79921444, 39.19922942, 38.59924516,\n",
       "       37.99926165, 37.39927886, 36.79929679, 36.19931541, 35.59933471,\n",
       "       34.99935466, 34.39937525, 33.79939645, 33.19941825, 32.59944063,\n",
       "       31.99946356, 31.39948701, 30.79951098, 30.19953542, 29.59956033,\n",
       "       28.99958567, 28.39961141, 27.79963754, 27.19966403, 26.59969085,\n",
       "       25.99971798, 25.39974538, 24.79977303, 24.19980091, 23.59982899,\n",
       "       22.99985723, 22.39988561, 21.79991411, 21.19994269, 20.59997133,\n",
       "       20.        ])"
      ]
     },
     "execution_count": 95,
     "metadata": {},
     "output_type": "execute_result"
    }
   ],
   "source": [
    "T[-1]"
   ]
  },
  {
   "cell_type": "code",
   "execution_count": 96,
   "metadata": {},
   "outputs": [
    {
     "data": {
      "text/plain": [
       "array([-0.60002867, -0.60002865, -0.60002861, -0.60002854, -0.60002844,\n",
       "       -0.60002831, -0.60002816, -0.60002798, -0.60002777, -0.60002753,\n",
       "       -0.60002726, -0.60002697, -0.60002665, -0.60002631, -0.60002594,\n",
       "       -0.60002554, -0.60002512, -0.60002467, -0.6000242 , -0.60002371,\n",
       "       -0.60002319, -0.60002265, -0.60002209, -0.6000215 , -0.6000209 ,\n",
       "       -0.60002027, -0.60001962, -0.60001896, -0.60001827, -0.60001757,\n",
       "       -0.60001685, -0.60001611, -0.60001536, -0.60001459, -0.60001381,\n",
       "       -0.60001301, -0.60001221, -0.60001139, -0.60001055, -0.60000971,\n",
       "       -0.60000886, -0.600008  , -0.60000713, -0.60000625, -0.60000537,\n",
       "       -0.60000448, -0.60000359, -0.6000027 , -0.6000018 , -0.6000009 ,\n",
       "       -0.6       , -0.5999991 , -0.5999982 , -0.5999973 , -0.59999641,\n",
       "       -0.59999552, -0.59999463, -0.59999375, -0.59999287, -0.599992  ,\n",
       "       -0.59999114, -0.59999029, -0.59998945, -0.59998861, -0.59998779,\n",
       "       -0.59998699, -0.59998619, -0.59998541, -0.59998464, -0.59998389,\n",
       "       -0.59998315, -0.59998243, -0.59998173, -0.59998104, -0.59998038,\n",
       "       -0.59997973, -0.5999791 , -0.5999785 , -0.59997791, -0.59997735,\n",
       "       -0.59997681, -0.59997629, -0.5999758 , -0.59997533, -0.59997488,\n",
       "       -0.59997446, -0.59997406, -0.59997369, -0.59997335, -0.59997303,\n",
       "       -0.59997274, -0.59997247, -0.59997223, -0.59997202, -0.59997184,\n",
       "       -0.59997169, -0.59997156, -0.59997146, -0.59997139, -0.59997135,\n",
       "       -0.59997133])"
      ]
     },
     "execution_count": 96,
     "metadata": {},
     "output_type": "execute_result"
    }
   ],
   "source": [
    "np.gradient(T[-1])"
   ]
  },
  {
   "cell_type": "code",
   "execution_count": 83,
   "metadata": {},
   "outputs": [
    {
     "data": {
      "text/plain": [
       "0.594059405940594"
      ]
     },
     "execution_count": 83,
     "metadata": {},
     "output_type": "execute_result"
    }
   ],
   "source": [
    "60/101"
   ]
  },
  {
   "cell_type": "code",
   "execution_count": 56,
   "metadata": {},
   "outputs": [
    {
     "data": {
      "text/plain": [
       "[0.0, 0.1, 0.2, 0.3, 0.4, 0.5, 0.6, 0.7, 0.8, 0.9, 1.0]"
      ]
     },
     "execution_count": 56,
     "metadata": {},
     "output_type": "execute_result"
    }
   ],
   "source": [
    "x"
   ]
  },
  {
   "cell_type": "code",
   "execution_count": 60,
   "metadata": {},
   "outputs": [
    {
     "data": {
      "text/plain": [
       "array([-60., -60., -60., -60., -60., -60., -60., -60., -60., -60., -60.])"
      ]
     },
     "execution_count": 60,
     "metadata": {},
     "output_type": "execute_result"
    }
   ],
   "source": [
    "np.gradient(y,x)"
   ]
  },
  {
   "cell_type": "code",
   "execution_count": 61,
   "metadata": {},
   "outputs": [
    {
     "data": {
      "text/plain": [
       "array([79.41172563, 78.8234513 , 78.23517704, 77.6469029 , 77.0586289 ,\n",
       "       76.47035508, 75.88208149, 75.29380816, 74.70553511, 74.1172624 ,\n",
       "       73.52899006, 72.94071811, 72.3524466 , 71.76417555, 71.17590501,\n",
       "       70.58763501, 69.99936557, 69.41109674, 68.82282854, 68.23456101,\n",
       "       67.64629417, 67.05802806, 66.4697627 , 65.88149812, 65.29323436,\n",
       "       64.70497143, 64.11670937, 63.52844819, 62.94018793, 62.35192861,\n",
       "       61.76367025, 61.17541287, 60.58715649, 59.99890114, 59.41064683,\n",
       "       58.82239358, 58.23414141, 57.64589033, 57.05764036, 56.46939151,\n",
       "       55.8811438 , 55.29289723, 54.70465182, 54.11640758, 53.52816452,\n",
       "       52.93992263, 52.35168194, 51.76344244, 51.17520414, 50.58696704,\n",
       "       49.99873115, 49.41049646, 48.82226297, 48.23403068, 47.64579959,\n",
       "       47.05756969, 46.46934099, 45.88111346, 45.29288712, 44.70466194,\n",
       "       44.11643792, 43.52821504, 42.9399933 , 42.35177268, 41.76355317,\n",
       "       41.17533476, 40.58711742, 39.99890114, 39.41068591, 38.82247169,\n",
       "       38.23425848, 37.64604626, 37.05783499, 36.46962466, 35.88141525,\n",
       "       35.29320672, 34.70499906, 34.11679224, 33.52858623, 32.940381  ,\n",
       "       32.35217652, 31.76397277, 31.17576972, 30.58756733, 29.99936557,\n",
       "       29.41116442, 28.82296384, 28.23476379, 27.64656424, 27.05836517,\n",
       "       26.47016653, 25.88196829, 25.29377041, 24.70557286, 24.11737561,\n",
       "       23.52917861, 22.94098184, 22.35278525, 21.76458881, 21.17639248,\n",
       "       20.58819622])"
      ]
     },
     "execution_count": 61,
     "metadata": {},
     "output_type": "execute_result"
    }
   ],
   "source": [
    "T[-1]"
   ]
  },
  {
   "cell_type": "code",
   "execution_count": 62,
   "metadata": {},
   "outputs": [
    {
     "data": {
      "text/plain": [
       "[0.0, 0.1, 0.2, 0.3, 0.4, 0.5, 0.6, 0.7, 0.8, 0.9, 1.0]"
      ]
     },
     "execution_count": 62,
     "metadata": {},
     "output_type": "execute_result"
    }
   ],
   "source": [
    "x"
   ]
  },
  {
   "cell_type": "code",
   "execution_count": null,
   "metadata": {},
   "outputs": [],
   "source": []
  }
 ],
 "metadata": {
  "interpreter": {
   "hash": "edddfc0f7e37ef110f568af45cee2b08e4a5774634baf1186a2f4bf98f1f2a1e"
  },
  "kernelspec": {
   "display_name": "Python 3.8.8 64-bit ('base': conda)",
   "language": "python",
   "name": "python3"
  },
  "language_info": {
   "codemirror_mode": {
    "name": "ipython",
    "version": 3
   },
   "file_extension": ".py",
   "mimetype": "text/x-python",
   "name": "python",
   "nbconvert_exporter": "python",
   "pygments_lexer": "ipython3",
   "version": "3.8.8"
  },
  "orig_nbformat": 4
 },
 "nbformat": 4,
 "nbformat_minor": 2
}
